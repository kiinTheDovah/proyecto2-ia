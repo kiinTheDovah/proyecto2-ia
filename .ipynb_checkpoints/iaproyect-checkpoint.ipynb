{
 "cells": [
  {
   "cell_type": "markdown",
   "metadata": {},
   "source": [
    "# Proyecto 2. Introducción a la inteligencia artificial\n",
    "\n",
    "## Objetivo: \n",
    "\n",
    "Aplicar el concepto de aprendizaje de máquina para resolver un problema de clasificación usando los métodos vistos en el curso. \n",
    "\n",
    "---\n",
    "\n",
    "## Actividades:\n",
    "\n",
    "1. [X] Visite el sitio web de Kaggle y descargue el conjunto de datos con ejemplos de enfermedades de corazón https://www.kaggle.com/ronitf/heart-disease-uci  (En este la columna objetivo es target) Deberían usar este\n",
    "2. [X] Lea la descripción de los datos cuidadosamente.\n",
    "3. [X] Crear un notebook de Python(puede ser un kernel de Kaggle o un notebook local en Jupyter)\n",
    "4. [X] Cargar el conjunto de datos como un dataFrame de pandas. Realizar gráficos para cada una de las variables usando matplotlib. Las variables numéricas deben ser graficadas como histogramas, y las variables categóricas deben ser representadas como diagramas de tortas. Luego es importante que previamente haya clasificado las variables en estos 2 grupos. Su visualización debe verse como las imágenes a continuación para sus variables numéricas y categóricas:\n",
    "\n",
    "\n",
    "5. [ ] Complete o remueva los elementos faltantes del conjunto de datos si existen\n",
    "6. [ ] Divida el conjunto de datos en 2. 80% para entrenamiento y 20% para pruebas\n",
    "7. [ ] Entrene un modelo de árbol de decisión. Ajuste los parámetros necesarios para obtener un buen resultado. Reporte la precisión del modelo para el conjunto de entrenamiento y para el conjunto de prueba. También reporta la matriz de confusión para el conjunto de pruebas.  \n",
    "8. [ ] Realice una interpretación del modelo obtenido. Para esto puede imprimir el modelo obtenido por python. ¿Qué tan fácil es?\n",
    "9. [ ] Repita los pasos 7 y 8 para un modelo Naive Bayes y una Red Neuronal. \n",
    "10. [ ] Compare los resultados de los 3 modelos usados en términos de la precisión, la estabilidad y la interpretabilidad de los resultados. \n",
    "11. [ ] En su opinión, ¿¡cuál de los 3 métodos usaría para resolver el problema de predecir enfermedades del corazón y porqué?\n",
    "\n",
    "---\n",
    "\n",
    "## Entregables\n",
    "\n",
    "* [ ] Una carpeta comprimida con el notebook en Júpiter  y los datos. La primera línea de su notebook debe ser la instalación de todas la librerías que necesite para correr su programa usando conda. Las librerías numpy, pandas, matplotlib y sklearn ya vienen instaladas con la versión completa de anaconda.\n",
    "* [ ] El notebook debe contener comentarios y apuntes suficientes como para ser el informe final.\n",
    "* [ ] Una presentación de 15 minutos que se realizará en el salón de clase  el 6 de septiembre. La presentación debe concentrarse en presentar los resultados y las conclusiones a las cuales llegaron. \n",
    "\n",
    "---\n"
   ]
  },
  {
   "cell_type": "markdown",
   "metadata": {},
   "source": [
    "## Attributes\n",
    "1. age (in years)\n",
    "2. sex (1 = male; 0 = female)\n",
    "3. cp => chest pain type (4 values)\n",
    "4. trestbps => resting blood pressure (in mm Hg on admission to the hospital) \n",
    "5. chol => serum cholestoral in mg/dl\n",
    "6. fbs => fasting blood sugar > 120 mg/dl (1 = true; 0 = false) \n",
    "7. restecg => resting electrocardiographic results (values 0,1,2)\n",
    "8. thalach => maximum heart rate achieved\n",
    "9. exang => exercise induced angina (1 = yes; 0 = no) \n",
    "10. oldpeak => ST depression induced by exercise relative to rest\n",
    "11. slope => the slope of the peak exercise ST segment\n",
    "12. ca => number of major vessels (0-3) colored by flourosopy\n",
    "13. thal => thal: 3 = normal; 6 = fixed defect; 7 = reversable defect\n",
    "14. target =>"
   ]
  },
  {
   "cell_type": "code",
   "execution_count": 89,
   "metadata": {},
   "outputs": [
    {
     "data": {
      "text/html": [
       "<div>\n",
       "<style scoped>\n",
       "    .dataframe tbody tr th:only-of-type {\n",
       "        vertical-align: middle;\n",
       "    }\n",
       "\n",
       "    .dataframe tbody tr th {\n",
       "        vertical-align: top;\n",
       "    }\n",
       "\n",
       "    .dataframe thead th {\n",
       "        text-align: right;\n",
       "    }\n",
       "</style>\n",
       "<table border=\"1\" class=\"dataframe\">\n",
       "  <thead>\n",
       "    <tr style=\"text-align: right;\">\n",
       "      <th></th>\n",
       "      <th>age</th>\n",
       "      <th>sex</th>\n",
       "      <th>cp</th>\n",
       "      <th>trestbps</th>\n",
       "      <th>chol</th>\n",
       "      <th>fbs</th>\n",
       "      <th>restecg</th>\n",
       "      <th>thalach</th>\n",
       "      <th>exang</th>\n",
       "      <th>oldpeak</th>\n",
       "      <th>slope</th>\n",
       "      <th>ca</th>\n",
       "      <th>thal</th>\n",
       "      <th>target</th>\n",
       "    </tr>\n",
       "  </thead>\n",
       "  <tbody>\n",
       "    <tr>\n",
       "      <th>0</th>\n",
       "      <td>63</td>\n",
       "      <td>1</td>\n",
       "      <td>3</td>\n",
       "      <td>145</td>\n",
       "      <td>233</td>\n",
       "      <td>1</td>\n",
       "      <td>0</td>\n",
       "      <td>150</td>\n",
       "      <td>0</td>\n",
       "      <td>2.3</td>\n",
       "      <td>0</td>\n",
       "      <td>0</td>\n",
       "      <td>1</td>\n",
       "      <td>1</td>\n",
       "    </tr>\n",
       "    <tr>\n",
       "      <th>1</th>\n",
       "      <td>37</td>\n",
       "      <td>1</td>\n",
       "      <td>2</td>\n",
       "      <td>130</td>\n",
       "      <td>250</td>\n",
       "      <td>0</td>\n",
       "      <td>1</td>\n",
       "      <td>187</td>\n",
       "      <td>0</td>\n",
       "      <td>3.5</td>\n",
       "      <td>0</td>\n",
       "      <td>0</td>\n",
       "      <td>2</td>\n",
       "      <td>1</td>\n",
       "    </tr>\n",
       "    <tr>\n",
       "      <th>2</th>\n",
       "      <td>41</td>\n",
       "      <td>0</td>\n",
       "      <td>1</td>\n",
       "      <td>130</td>\n",
       "      <td>204</td>\n",
       "      <td>0</td>\n",
       "      <td>0</td>\n",
       "      <td>172</td>\n",
       "      <td>0</td>\n",
       "      <td>1.4</td>\n",
       "      <td>2</td>\n",
       "      <td>0</td>\n",
       "      <td>2</td>\n",
       "      <td>1</td>\n",
       "    </tr>\n",
       "    <tr>\n",
       "      <th>3</th>\n",
       "      <td>56</td>\n",
       "      <td>1</td>\n",
       "      <td>1</td>\n",
       "      <td>120</td>\n",
       "      <td>236</td>\n",
       "      <td>0</td>\n",
       "      <td>1</td>\n",
       "      <td>178</td>\n",
       "      <td>0</td>\n",
       "      <td>0.8</td>\n",
       "      <td>2</td>\n",
       "      <td>0</td>\n",
       "      <td>2</td>\n",
       "      <td>1</td>\n",
       "    </tr>\n",
       "    <tr>\n",
       "      <th>4</th>\n",
       "      <td>57</td>\n",
       "      <td>0</td>\n",
       "      <td>0</td>\n",
       "      <td>120</td>\n",
       "      <td>354</td>\n",
       "      <td>0</td>\n",
       "      <td>1</td>\n",
       "      <td>163</td>\n",
       "      <td>1</td>\n",
       "      <td>0.6</td>\n",
       "      <td>2</td>\n",
       "      <td>0</td>\n",
       "      <td>2</td>\n",
       "      <td>1</td>\n",
       "    </tr>\n",
       "    <tr>\n",
       "      <th>...</th>\n",
       "      <td>...</td>\n",
       "      <td>...</td>\n",
       "      <td>...</td>\n",
       "      <td>...</td>\n",
       "      <td>...</td>\n",
       "      <td>...</td>\n",
       "      <td>...</td>\n",
       "      <td>...</td>\n",
       "      <td>...</td>\n",
       "      <td>...</td>\n",
       "      <td>...</td>\n",
       "      <td>...</td>\n",
       "      <td>...</td>\n",
       "      <td>...</td>\n",
       "    </tr>\n",
       "    <tr>\n",
       "      <th>298</th>\n",
       "      <td>57</td>\n",
       "      <td>0</td>\n",
       "      <td>0</td>\n",
       "      <td>140</td>\n",
       "      <td>241</td>\n",
       "      <td>0</td>\n",
       "      <td>1</td>\n",
       "      <td>123</td>\n",
       "      <td>1</td>\n",
       "      <td>0.2</td>\n",
       "      <td>1</td>\n",
       "      <td>0</td>\n",
       "      <td>3</td>\n",
       "      <td>0</td>\n",
       "    </tr>\n",
       "    <tr>\n",
       "      <th>299</th>\n",
       "      <td>45</td>\n",
       "      <td>1</td>\n",
       "      <td>3</td>\n",
       "      <td>110</td>\n",
       "      <td>264</td>\n",
       "      <td>0</td>\n",
       "      <td>1</td>\n",
       "      <td>132</td>\n",
       "      <td>0</td>\n",
       "      <td>1.2</td>\n",
       "      <td>1</td>\n",
       "      <td>0</td>\n",
       "      <td>3</td>\n",
       "      <td>0</td>\n",
       "    </tr>\n",
       "    <tr>\n",
       "      <th>300</th>\n",
       "      <td>68</td>\n",
       "      <td>1</td>\n",
       "      <td>0</td>\n",
       "      <td>144</td>\n",
       "      <td>193</td>\n",
       "      <td>1</td>\n",
       "      <td>1</td>\n",
       "      <td>141</td>\n",
       "      <td>0</td>\n",
       "      <td>3.4</td>\n",
       "      <td>1</td>\n",
       "      <td>2</td>\n",
       "      <td>3</td>\n",
       "      <td>0</td>\n",
       "    </tr>\n",
       "    <tr>\n",
       "      <th>301</th>\n",
       "      <td>57</td>\n",
       "      <td>1</td>\n",
       "      <td>0</td>\n",
       "      <td>130</td>\n",
       "      <td>131</td>\n",
       "      <td>0</td>\n",
       "      <td>1</td>\n",
       "      <td>115</td>\n",
       "      <td>1</td>\n",
       "      <td>1.2</td>\n",
       "      <td>1</td>\n",
       "      <td>1</td>\n",
       "      <td>3</td>\n",
       "      <td>0</td>\n",
       "    </tr>\n",
       "    <tr>\n",
       "      <th>302</th>\n",
       "      <td>57</td>\n",
       "      <td>0</td>\n",
       "      <td>1</td>\n",
       "      <td>130</td>\n",
       "      <td>236</td>\n",
       "      <td>0</td>\n",
       "      <td>0</td>\n",
       "      <td>174</td>\n",
       "      <td>0</td>\n",
       "      <td>0.0</td>\n",
       "      <td>1</td>\n",
       "      <td>1</td>\n",
       "      <td>2</td>\n",
       "      <td>0</td>\n",
       "    </tr>\n",
       "  </tbody>\n",
       "</table>\n",
       "<p>303 rows × 14 columns</p>\n",
       "</div>"
      ],
      "text/plain": [
       "     age  sex  cp  trestbps  chol  fbs  restecg  thalach  exang  oldpeak  \\\n",
       "0     63    1   3       145   233    1        0      150      0      2.3   \n",
       "1     37    1   2       130   250    0        1      187      0      3.5   \n",
       "2     41    0   1       130   204    0        0      172      0      1.4   \n",
       "3     56    1   1       120   236    0        1      178      0      0.8   \n",
       "4     57    0   0       120   354    0        1      163      1      0.6   \n",
       "..   ...  ...  ..       ...   ...  ...      ...      ...    ...      ...   \n",
       "298   57    0   0       140   241    0        1      123      1      0.2   \n",
       "299   45    1   3       110   264    0        1      132      0      1.2   \n",
       "300   68    1   0       144   193    1        1      141      0      3.4   \n",
       "301   57    1   0       130   131    0        1      115      1      1.2   \n",
       "302   57    0   1       130   236    0        0      174      0      0.0   \n",
       "\n",
       "     slope  ca  thal  target  \n",
       "0        0   0     1       1  \n",
       "1        0   0     2       1  \n",
       "2        2   0     2       1  \n",
       "3        2   0     2       1  \n",
       "4        2   0     2       1  \n",
       "..     ...  ..   ...     ...  \n",
       "298      1   0     3       0  \n",
       "299      1   0     3       0  \n",
       "300      1   2     3       0  \n",
       "301      1   1     3       0  \n",
       "302      1   1     2       0  \n",
       "\n",
       "[303 rows x 14 columns]"
      ]
     },
     "execution_count": 89,
     "metadata": {},
     "output_type": "execute_result"
    }
   ],
   "source": [
    "#%matplotlib inline\n",
    "import numpy as np\n",
    "import pandas as pd\n",
    "import matplotlib.pyplot as plt\n",
    "\n",
    "data = pd.read_csv('heart.csv')\n",
    "data"
   ]
  },
  {
   "cell_type": "code",
   "execution_count": 99,
   "metadata": {},
   "outputs": [
    {
     "data": {
      "image/png": "[encoded data removed]",
      "text/plain": [
       "<Figure size 432x288 with 1 Axes>"
      ]
     },
     "metadata": {
      "needs_background": "light"
     },
     "output_type": "display_data"
    },
    {
     "data": {
      "image/png": "[encoded data removed]",
      "text/plain": [
       "<Figure size 432x288 with 1 Axes>"
      ]
     },
     "metadata": {},
     "output_type": "display_data"
    },
    {
     "data": {
      "image/png": "[encoded data removed]",
      "text/plain": [
       "<Figure size 432x288 with 1 Axes>"
      ]
     },
     "metadata": {},
     "output_type": "display_data"
    },
    {
     "data": {
      "image/png": "[encoded data removed]",
      "text/plain": [
       "<Figure size 432x288 with 1 Axes>"
      ]
     },
     "metadata": {
      "needs_background": "light"
     },
     "output_type": "display_data"
    },
    {
     "data": {
      "image/png": "[encoded data removed]",
      "text/plain": [
       "<Figure size 432x288 with 1 Axes>"
      ]
     },
     "metadata": {
      "needs_background": "light"
     },
     "output_type": "display_data"
    },
    {
     "data": {
      "image/png": "[encoded data removed]",
      "text/plain": [
       "<Figure size 432x288 with 1 Axes>"
      ]
     },
     "metadata": {},
     "output_type": "display_data"
    },
    {
     "data": {
      "image/png": "[encoded data removed]",
      "text/plain": [
       "<Figure size 432x288 with 1 Axes>"
      ]
     },
     "metadata": {},
     "output_type": "display_data"
    },
    {
     "data": {
      "image/png": "[encoded data removed]",
      "text/plain": [
       "<Figure size 432x288 with 1 Axes>"
      ]
     },
     "metadata": {
      "needs_background": "light"
     },
     "output_type": "display_data"
    },
    {
     "data": {
      "image/png": "[encoded data removed]",
      "text/plain": [
       "<Figure size 432x288 with 1 Axes>"
      ]
     },
     "metadata": {},
     "output_type": "display_data"
    },
    {
     "data": {
      "image/png": "[encoded data removed]",
      "text/plain": [
       "<Figure size 432x288 with 1 Axes>"
      ]
     },
     "metadata": {
      "needs_background": "light"
     },
     "output_type": "display_data"
    },
    {
     "data": {
      "image/png": "[encoded data removed]",
      "text/plain": [
       "<Figure size 432x288 with 1 Axes>"
      ]
     },
     "metadata": {},
     "output_type": "display_data"
    },
    {
     "data": {
      "image/png": "[encoded data removed]",
      "text/plain": [
       "<Figure size 432x288 with 1 Axes>"
      ]
     },
     "metadata": {
      "needs_background": "light"
     },
     "output_type": "display_data"
    },
    {
     "data": {
      "image/png": "[encoded data removed]",
      "text/plain": [
       "<Figure size 432x288 with 1 Axes>"
      ]
     },
     "metadata": {},
     "output_type": "display_data"
    }
   ],
   "source": [
    "%matplotlib inline\n",
    "import matplotlib.pyplot as plt\n",
    "\n",
    "# 1--- AGE OF PATIENTE PLOT\n",
    "plt.figure()\n",
    "counts, bins = np.histogram(data['age'])\n",
    "plt.hist(bins[:-1], bins, weights=counts)\n",
    "plt.xlabel('Age')\n",
    "plt.ylabel('Patients')\n",
    "plt.text(30, 45, r'$\\mu=100,\\ \\sigma=15$')\n",
    "#plt.xlim(40, 160)\n",
    "#plt.ylim(0, 0.03)\n",
    "plt.grid(True)\n",
    "plt.title('Age Histogram')\n",
    "\n",
    "# 2--- SEX OF PATIENTE PLOT\n",
    "plt.figure()\n",
    "list_sex = data['sex']\n",
    "length = len(list_sex)\n",
    "male = np.count_nonzero(list_sex == 1)\n",
    "pie_sex = [male, length-male]\n",
    "labels = ['male', 'female']\n",
    "colors = ['tab:cyan','r']\n",
    "explode = (0.1, 0)\n",
    "plt.pie(pie_sex,labels=labels,colors=colors,explode=explode,autopct='%1.1f%%',shadow=True, startangle=90);\n",
    "plt.title('Sex of pacient');\n",
    "\n",
    "# 3--- CHEST PAIN TYPE PLOT\n",
    "plt.figure()\n",
    "list_cp = data['cp']\n",
    "length = len(list_cp)\n",
    "cp0 = np.count_nonzero(list_cp == 0)\n",
    "cp1 = np.count_nonzero(list_cp == 1)\n",
    "cp2 = np.count_nonzero(list_cp == 2)\n",
    "cp3 = np.count_nonzero(list_cp == 3)\n",
    "pie_cp = [cp0,cp1,cp2,cp3]\n",
    "labels = ['cp=0', 'cp=1', 'cp=2', 'cp=3']\n",
    "colors = ['palegreen','moccasin','coral','r']\n",
    "explode = (0.1, 0,0,0)\n",
    "plt.pie(pie_cp,labels=labels,colors=colors,explode=explode,autopct='%1.1f%%',shadow=True, startangle=90);\n",
    "plt.title('chest pain type');\n",
    "\n",
    "# 4--- RESTING BLOOD PRESSURE PLOT\n",
    "plt.figure()\n",
    "counts, bins = np.histogram(data['trestbps'])\n",
    "plt.hist(bins[:-1], bins, weights=counts,color='k', alpha=0.5)\n",
    "plt.xlabel('mm Hg')\n",
    "plt.ylabel('Patients')\n",
    "plt.title('Histogram of trestbps')\n",
    "plt.text(160, 45, r'$\\mu=100,\\ \\sigma=15$')\n",
    "#plt.xlim(0, 160)\n",
    "#plt.ylim(0, 0.03)\n",
    "plt.grid(True)\n",
    "plt.title('Resting Blood Pressure Histogram');\n",
    "\n",
    "# 5--- SERUM CHOLESTORAL PLOT\n",
    "plt.figure()\n",
    "counts, bins = np.histogram(data['chol'])\n",
    "plt.hist(bins[:-1], bins, weights=counts)\n",
    "plt.xlabel('mg/dl')\n",
    "plt.ylabel('Patients')\n",
    "#plt.xlim(40, 160)\n",
    "#plt.ylim(0, 0.03)\n",
    "plt.grid(True)\n",
    "plt.title('Serum Cholestoral Histogram')\n",
    "\n",
    "# 6--- FASTING BLOOD SUGAR PLOT\n",
    "plt.figure()\n",
    "list_fbs = data['fbs']\n",
    "length = len(list_fbs)\n",
    "fbs = np.count_nonzero(list_fbs == 1)\n",
    "pie_fbs = [fbs, length-fbs]\n",
    "labels = ['fbs=1', 'fbs=0']\n",
    "colors = ['coral','palegreen']\n",
    "explode = (0.1, 0)\n",
    "plt.pie(pie_fbs,labels=labels,colors=colors,explode=explode,autopct='%1.1f%%',shadow=True, startangle=90);\n",
    "plt.title('Fasting blood sugar');\n",
    "\n",
    "# 7--- RESTING ELECTROCARDIOGRAPHIC PLOT\n",
    "plt.figure()\n",
    "list_restecg = data['restecg']\n",
    "re0 = np.count_nonzero(list_restecg == 0)\n",
    "re1 = np.count_nonzero(list_restecg == 1)\n",
    "re2 = np.count_nonzero(list_restecg == 2)\n",
    "pie_rest = [re0,re1,re2]\n",
    "labels = ['0','1','2']\n",
    "colors = ['tab:cyan','pink','lightgrey']\n",
    "explode = (0.1, 0.1,0)\n",
    "plt.pie(pie_rest,labels=labels,colors=colors,explode=explode,autopct='%1.1f%%',shadow=True, startangle=90);\n",
    "plt.title('Resting Electrocardiographic Results');\n",
    "\n",
    "# 8--- MAXIMUM HEART RATE ACHIEVED PLOT\n",
    "plt.figure()\n",
    "counts, bins = np.histogram(data['thalach'])\n",
    "plt.hist(bins[:-1], bins, weights=counts)\n",
    "plt.xlabel('bps')\n",
    "plt.ylabel('Patients')\n",
    "#plt.xlim(40, 160)\n",
    "#plt.ylim(0, 0.03)\n",
    "plt.grid(True)\n",
    "plt.title('Maximum Heart Rate Achived Histogram')\n",
    "\n",
    "# 9--- EXERCISE INDUCED ANGINA PLOT  exang => exercise induced angina\n",
    "plt.figure()\n",
    "list_ex = data['exang']\n",
    "length = len(list_ex)\n",
    "ex = np.count_nonzero(list_ex == 1)\n",
    "pie_ex = [length-ex,ex]\n",
    "labels = ['0', '1']\n",
    "colors = ['tab:cyan','r']\n",
    "explode = (0.1, 0)\n",
    "plt.pie(pie_ex,labels=labels,colors=colors,explode=explode,autopct='%1.1f%%',shadow=True, startangle=90);\n",
    "plt.title('Exercise Induced Angina');\n",
    "\n",
    "# 10-- ST DEPRESSION INDUCED BY EXERCISE RELATIVE TO REST ST PLOT\n",
    "plt.figure()\n",
    "counts, bins = np.histogram(data['oldpeak'])\n",
    "plt.hist(bins[:-1], bins, weights=counts)\n",
    "plt.xlabel('oldpeak')\n",
    "plt.ylabel('Patients')\n",
    "#plt.xlim(40, 160)\n",
    "#plt.ylim(0, 0.03)\n",
    "plt.grid(True)\n",
    "plt.title('ST depression induced by exercise relative to rest Histogram')\n",
    "\n",
    "# 11-- THE SLOPE OF THE PEAK EXERCISE ST SEGMENT PLOT   slope => the slope of the peak exercise ST segment\n",
    "plt.figure()\n",
    "list_slope = data['slope']\n",
    "sl0 = np.count_nonzero(list_slope == 0)\n",
    "sl1 = np.count_nonzero(list_slope == 1)\n",
    "sl2 = np.count_nonzero(list_slope == 2)\n",
    "pie_slope = [sl0,sl1,sl2]\n",
    "labels = ['0','1','2']\n",
    "colors = ['tab:cyan','pink','lightgrey']\n",
    "explode = (0.1, 0,0)\n",
    "plt.pie(pie_slope,labels=labels,colors=colors,explode=explode,autopct='%1.1f%%',shadow=True, startangle=90);\n",
    "plt.title('The Slope of the Peak Exercise ST Segment');\n",
    "\n",
    "# 12-- NUMBER OF MAJOR VESSELS PLOT  ca => number of major vessels (0-3) colored by flourosopy\n",
    "plt.figure()\n",
    "counts, bins = np.histogram(data['ca'])\n",
    "plt.hist(bins[:-1], bins, weights=counts)\n",
    "plt.xlabel('Number of Major Vessels')\n",
    "plt.ylabel('Patients')\n",
    "#plt.xlim(40, 160)\n",
    "#plt.ylim(0, 0.03)\n",
    "plt.grid(True)\n",
    "plt.title('Number of Major Vessels Histogram');\n",
    "\n",
    "# 13-- THAL PLOT\n",
    "plt.figure()\n",
    "list_thal = data['thal']\n",
    "thal0 = np.count_nonzero(list_thal == 0)\n",
    "thal1 = np.count_nonzero(list_thal == 1)\n",
    "thal2 = np.count_nonzero(list_thal == 2)\n",
    "thal3 = np.count_nonzero(list_thal == 3)\n",
    "\n",
    "pie_thal = [thal0,thal1,thal2,thal3]\n",
    "labels = ['0','1','2','3']\n",
    "colors = ['tab:cyan','pink','lightgrey','r']\n",
    "explode = (0.1, 0,0,0)\n",
    "plt.pie(pie_thal,labels=labels,colors=colors,explode=explode,autopct='%1.1f%%',shadow=True, startangle=90);\n",
    "plt.title('Thal PLOT');"
   ]
  },
  {
   "cell_type": "code",
   "execution_count": 45,
   "metadata": {},
   "outputs": [],
   "source": [
    "import csv\n",
    "import math\n",
    "import random\n",
    "def loadCsv(filename):\n",
    "    lines = csv.reader(open(r'heart.csv'))\n",
    "    dataset = list(lines)\n",
    "    for i in range(len(dataset)):\n",
    "        dataset[i] = [float(x) for x in dataset[i]]\n",
    "    return dataset\n",
    "\n",
    "def splitDataset(data,split):\n",
    "    trainSize = int(len(data)*split)\n",
    "    trainSet=[]\n",
    "    copy = list(data)\n",
    "    while len(trainSet) < trainSize:\n",
    "        index = random.randrange(len(copy))\n",
    "        trainSet.append(copy.pop(index))\n",
    "    return [trainSet,copy]"
   ]
  },
  {
   "cell_type": "code",
   "execution_count": 46,
   "metadata": {},
   "outputs": [],
   "source": [
    "def separateByClass(dataset):\n",
    "    separated = {}\n",
    "    for i in range(len(dataset)):\n",
    "        vector = dataset[i]\n",
    "        if (vector[-1] not in separated):\n",
    "            separated[vector[-1]] = []\n",
    "        separated[vector[-1]].append(vector)\n",
    "    return separated"
   ]
  },
  {
   "cell_type": "code",
   "execution_count": null,
   "metadata": {},
   "outputs": [],
   "source": []
  },
  {
   "cell_type": "code",
   "execution_count": 47,
   "metadata": {},
   "outputs": [],
   "source": [
    "def mean(numbers):\n",
    "    return sum(numbers)/float(len(numbers))"
   ]
  },
  {
   "cell_type": "code",
   "execution_count": 25,
   "metadata": {},
   "outputs": [],
   "source": [
    "def stdev(numbers):\n",
    "    avg = mean(numbers)\n",
    "    variance = sum([pow(x-avg,2) for x in numbers])/float(len(numbers)-1)\n",
    "    return math.sqrt(variance)"
   ]
  },
  {
   "cell_type": "code",
   "execution_count": 26,
   "metadata": {},
   "outputs": [],
   "source": [
    "def summarize(dataset):\n",
    "    summaries = [(mean(attribute), stdev(attribute)) for attribute in zip(*dataset)]\n",
    "    del summaries[-1]\n",
    "    return summaries"
   ]
  },
  {
   "cell_type": "code",
   "execution_count": 27,
   "metadata": {},
   "outputs": [],
   "source": [
    "def summarizeByClass(dataset):\n",
    "    separated = separateByClass(dataset)\n",
    "    summaries = {}\n",
    "    for classValue, instances in separated.items():\n",
    "        summaries[classValue] = summarize(instances)\n",
    "    return summaries"
   ]
  },
  {
   "cell_type": "code",
   "execution_count": 28,
   "metadata": {},
   "outputs": [],
   "source": [
    "def calculateProbability(x,mean,stdev):\n",
    "    exponent = math.exp(-(math.pow(x-mean,2)/(2*math.pow(stdev,2))))\n",
    "    return (1/(math.sqrt(2*math.pi)*stdev))*exponent"
   ]
  },
  {
   "cell_type": "code",
   "execution_count": 53,
   "metadata": {},
   "outputs": [],
   "source": [
    "def calculateClassProbabilities(summaries,inputVector):\n",
    "    probabilities = {}\n",
    "    for classValue, classSummaries in summaries.items():\n",
    "        probabilities[classValue] = 1\n",
    "        for i in range (len(classSummaries)):\n",
    "            mean,stdev = classSummaries[i]\n",
    "            x = inputVector[i]\n",
    "            probabilities[classValue] *= calculateProbability(x, mean, stdev)\n",
    "        return probabilities"
   ]
  },
  {
   "cell_type": "code",
   "execution_count": 30,
   "metadata": {},
   "outputs": [],
   "source": [
    "def predict(summaries,inputVector):\n",
    "    probabilities = calculateClassProbabilities(summaries, inputVector)\n",
    "    bestLabel, bestProb = None, -1\n",
    "    for classValue, probability in probabilities.items():\n",
    "        if bestLabel is None or probability > bestProb:\n",
    "            bestProb = probability\n",
    "            bestLabel = classValue\n",
    "        return bestLabel"
   ]
  },
  {
   "cell_type": "code",
   "execution_count": 31,
   "metadata": {},
   "outputs": [],
   "source": [
    "def getPredictions(summaries, testSet):\n",
    "    predictions = []\n",
    "    for i in range(len(testSet)):\n",
    "        result = predict(summaries, testSet[i])\n",
    "        predictions.append(result)\n",
    "    return predictions"
   ]
  },
  {
   "cell_type": "code",
   "execution_count": 57,
   "metadata": {},
   "outputs": [],
   "source": [
    "def getAccuracy(testSet, predictions):\n",
    "    correct=0\n",
    "    for x in range(len(testSet)):\n",
    "        if testSet[x][-1]==predictions[x]:\n",
    "            correct += 1\n",
    "        return (correct/float(len(testSet)))*100.0"
   ]
  },
  {
   "cell_type": "code",
   "execution_count": 81,
   "metadata": {},
   "outputs": [
    {
     "name": "stdout",
     "output_type": "stream",
     "text": [
      "Split 303 rows into train = 203 and test = 100 rows\n",
      "Accuracy: 0.0%\n"
     ]
    }
   ],
   "source": [
    "trainD = trainDat(data['age'],0.8)\n",
    "len(trainD[0])\n",
    "def main():\n",
    "    filename = 'heart.csv'\n",
    "    splitRatio = 0.67\n",
    "    dataset = loadCsv(filename)\n",
    "    trainingSet, testSet = splitDataset(dataset,splitRatio)\n",
    "    print('Split {0} rows into train = {1} and test = {2} rows'.format(len(dataset),len(trainingSet),len(testSet)))\n",
    "    #prepare model\n",
    "    summaries = summarizeByClass(trainingSet)\n",
    "    #test model\n",
    "    predictions = getPredictions(summaries, testSet)\n",
    "    accuracy = getAccuracy(testSet, predictions)\n",
    "    print('Accuracy: {0}%'.format(accuracy))\n",
    "    \n",
    "main()"
   ]
  },
  {
   "cell_type": "code",
   "execution_count": null,
   "metadata": {},
   "outputs": [],
   "source": []
  },
  {
   "cell_type": "code",
   "execution_count": null,
   "metadata": {},
   "outputs": [],
   "source": []
  },
  {
   "cell_type": "code",
   "execution_count": 123,
   "metadata": {},
   "outputs": [
    {
     "data": {
      "text/plain": [
       "0    3\n",
       "1    4\n",
       "Name: col2, dtype: int64"
      ]
     },
     "execution_count": 123,
     "metadata": {},
     "output_type": "execute_result"
    }
   ],
   "source": [
    "d = {'col1': [1, 2], 'col2': [3, 4]}\n",
    "df = pd.DataFrame(data=d)\n",
    "df.col2"
   ]
  },
  {
   "cell_type": "code",
   "execution_count": 110,
   "metadata": {},
   "outputs": [],
   "source": [
    "from sklearn import datasets\n",
    "from sklearn import metrics\n",
    "from sklearn.naive_bayes import BernoulliNB"
   ]
  },
  {
   "cell_type": "code",
   "execution_count": 131,
   "metadata": {},
   "outputs": [
    {
     "name": "stdout",
     "output_type": "stream",
     "text": [
      "[0      63\n",
      "1      37\n",
      "2      41\n",
      "3      56\n",
      "4      57\n",
      "       ..\n",
      "298    57\n",
      "299    45\n",
      "300    68\n",
      "301    57\n",
      "302    57\n",
      "Name: age, Length: 303, dtype: int64, 0      1\n",
      "1      1\n",
      "2      0\n",
      "3      1\n",
      "4      0\n",
      "      ..\n",
      "298    0\n",
      "299    1\n",
      "300    1\n",
      "301    1\n",
      "302    0\n",
      "Name: sex, Length: 303, dtype: int64, 0      3\n",
      "1      2\n",
      "2      1\n",
      "3      1\n",
      "4      0\n",
      "      ..\n",
      "298    0\n",
      "299    3\n",
      "300    0\n",
      "301    0\n",
      "302    1\n",
      "Name: cp, Length: 303, dtype: int64]\n"
     ]
    }
   ],
   "source": [
    "import numpy as np\n",
    "import pandas as pd\n",
    "import matplotlib.pyplot as plt\n",
    "\n",
    "datos = pd.read_csv('heart.csv')\n",
    "datoss = [datos.age,datos.sex,datos.cp]\n",
    "print(datoss)\n",
    "dataset = datos\n",
    "#model = BernoulliNB()\n",
    "#model.fit(datoss,dataset.target)"
   ]
  },
  {
   "cell_type": "code",
   "execution_count": 113,
   "metadata": {},
   "outputs": [
    {
     "name": "stdout",
     "output_type": "stream",
     "text": [
      "BernoulliNB()\n"
     ]
    }
   ],
   "source": [
    "print(model)"
   ]
  },
  {
   "cell_type": "code",
   "execution_count": 114,
   "metadata": {},
   "outputs": [],
   "source": [
    "expected = dataset.target\n",
    "predicted = model.predict(dataset)"
   ]
  },
  {
   "cell_type": "code",
   "execution_count": 115,
   "metadata": {},
   "outputs": [
    {
     "name": "stdout",
     "output_type": "stream",
     "text": [
      "              precision    recall  f1-score   support\n",
      "\n",
      "           0       1.00      1.00      1.00       138\n",
      "           1       1.00      1.00      1.00       165\n",
      "\n",
      "    accuracy                           1.00       303\n",
      "   macro avg       1.00      1.00      1.00       303\n",
      "weighted avg       1.00      1.00      1.00       303\n",
      "\n",
      "[[138   0]\n",
      " [  0 165]]\n"
     ]
    }
   ],
   "source": [
    "print(metrics.classification_report(expected,predicted))\n",
    "print(metrics.confusion_matrix(expected, predicted))"
   ]
  },
  {
   "cell_type": "markdown",
   "metadata": {},
   "source": [
    "## Decision Tree\n",
    "### Example:\n",
    "https://www.youtube.com/watch?v=LDRbO9a6XPU  \n",
    "GH code: https://github.com/random-forests/tutorials/blob/master/decision_tree.ipynb"
   ]
  },
  {
   "cell_type": "code",
   "execution_count": null,
   "metadata": {},
   "outputs": [],
   "source": []
  },
  {
   "cell_type": "markdown",
   "metadata": {},
   "source": [
    "## Naïve Bayes Classifier\n",
    "### What is it (basic):\n",
    "https://www.youtube.com/watch?v=CPqOCI0ahss (didn't like the video much, but is easy to understand)"
   ]
  },
  {
   "cell_type": "code",
   "execution_count": null,
   "metadata": {},
   "outputs": [],
   "source": []
  },
  {
   "cell_type": "markdown",
   "metadata": {},
   "source": [
    " to plot in matplotlib to plot in matplotlib### how to plot in matplotlib\n",
    "#### colors:\n",
    "https://matplotlib.org/3.1.0/gallery/color/named_colors.html\n",
    "#### histograms:\n",
    "https://matplotlib.org/3.3.3/api/_as_gen/matplotlib.pyplot.hist.html#matplotlib.pyplot.hist\n",
    "#### pie chart:\n",
    "https://matplotlib.org/3.3.3/api/_as_gen/matplotlib.pyplot.pie.html#matplotlib.pyplot.pie\n",
    "\n",
    "### numpy stuffs\n",
    "#### numpy count\n",
    "https://note.nkmk.me/en/python-numpy-count/"
   ]
  },
  {
   "cell_type": "markdown",
   "metadata": {},
   "source": [
    "* To run bash commands use the ! at the beggining"
   ]
  },
  {
   "cell_type": "code",
   "execution_count": 100,
   "metadata": {},
   "outputs": [
    {
     "name": "stdout",
     "output_type": "stream",
     "text": [
      "[sudo] password for kiin: \n",
      "sudo: timed out reading password\n"
     ]
    }
   ],
   "source": []
  },
  {
   "cell_type": "markdown",
   "metadata": {},
   "source": [
    "* To plot with matplotlib ->"
   ]
  },
  {
   "cell_type": "code",
   "execution_count": 67,
   "metadata": {},
   "outputs": [],
   "source": [
    "#%matplotlib inline\n",
    "import matplotlib.pyplot as plt\n",
    "plt.style.use('seaborn-whitegrid')\n",
    "import numpy as np"
   ]
  },
  {
   "cell_type": "code",
   "execution_count": 68,
   "metadata": {},
   "outputs": [
    {
     "data": {
      "image/png": "[encoded data removed]",
      "text/plain": [
       "<Figure size 432x288 with 1 Axes>"
      ]
     },
     "metadata": {},
     "output_type": "display_data"
    }
   ],
   "source": [
    "rng = np.random.RandomState(69)\n",
    "for marker in ['o', '.', ',', 'x', '+', 'v', '^', '<', '>', 's', 'd']:\n",
    "    plt.plot(rng.rand(5), rng.rand(5), marker,\n",
    "             label=\"marker='{0}'\".format(marker))\n",
    "plt.legend(numpoints=1)\n",
    "plt.xlim(0, 1.8);"
   ]
  },
  {
   "cell_type": "code",
   "execution_count": 69,
   "metadata": {},
   "outputs": [
    {
     "data": {
      "application/json": {
       "cell": {
        "!": "OSMagics",
        "HTML": "Other",
        "SVG": "Other",
        "bash": "Other",
        "capture": "ExecutionMagics",
        "debug": "ExecutionMagics",
        "file": "Other",
        "html": "DisplayMagics",
        "javascript": "DisplayMagics",
        "js": "DisplayMagics",
        "latex": "DisplayMagics",
        "markdown": "DisplayMagics",
        "perl": "Other",
        "prun": "ExecutionMagics",
        "pypy": "Other",
        "python": "Other",
        "python2": "Other",
        "python3": "Other",
        "ruby": "Other",
        "script": "ScriptMagics",
        "sh": "Other",
        "svg": "DisplayMagics",
        "sx": "OSMagics",
        "system": "OSMagics",
        "time": "ExecutionMagics",
        "timeit": "ExecutionMagics",
        "writefile": "OSMagics"
       },
       "line": {
        "alias": "OSMagics",
        "alias_magic": "BasicMagics",
        "autoawait": "AsyncMagics",
        "autocall": "AutoMagics",
        "automagic": "AutoMagics",
        "autosave": "KernelMagics",
        "bookmark": "OSMagics",
        "cat": "Other",
        "cd": "OSMagics",
        "clear": "KernelMagics",
        "colors": "BasicMagics",
        "conda": "PackagingMagics",
        "config": "ConfigMagics",
        "connect_info": "KernelMagics",
        "cp": "Other",
        "debug": "ExecutionMagics",
        "dhist": "OSMagics",
        "dirs": "OSMagics",
        "doctest_mode": "BasicMagics",
        "ed": "Other",
        "edit": "KernelMagics",
        "env": "OSMagics",
        "gui": "BasicMagics",
        "hist": "Other",
        "history": "HistoryMagics",
        "killbgscripts": "ScriptMagics",
        "ldir": "Other",
        "less": "KernelMagics",
        "lf": "Other",
        "lk": "Other",
        "ll": "Other",
        "load": "CodeMagics",
        "load_ext": "ExtensionMagics",
        "loadpy": "CodeMagics",
        "logoff": "LoggingMagics",
        "logon": "LoggingMagics",
        "logstart": "LoggingMagics",
        "logstate": "LoggingMagics",
        "logstop": "LoggingMagics",
        "ls": "Other",
        "lsmagic": "BasicMagics",
        "lx": "Other",
        "macro": "ExecutionMagics",
        "magic": "BasicMagics",
        "man": "KernelMagics",
        "matplotlib": "PylabMagics",
        "mkdir": "Other",
        "more": "KernelMagics",
        "mv": "Other",
        "notebook": "BasicMagics",
        "page": "BasicMagics",
        "pastebin": "CodeMagics",
        "pdb": "ExecutionMagics",
        "pdef": "NamespaceMagics",
        "pdoc": "NamespaceMagics",
        "pfile": "NamespaceMagics",
        "pinfo": "NamespaceMagics",
        "pinfo2": "NamespaceMagics",
        "pip": "PackagingMagics",
        "popd": "OSMagics",
        "pprint": "BasicMagics",
        "precision": "BasicMagics",
        "prun": "ExecutionMagics",
        "psearch": "NamespaceMagics",
        "psource": "NamespaceMagics",
        "pushd": "OSMagics",
        "pwd": "OSMagics",
        "pycat": "OSMagics",
        "pylab": "PylabMagics",
        "qtconsole": "KernelMagics",
        "quickref": "BasicMagics",
        "recall": "HistoryMagics",
        "rehashx": "OSMagics",
        "reload_ext": "ExtensionMagics",
        "rep": "Other",
        "rerun": "HistoryMagics",
        "reset": "NamespaceMagics",
        "reset_selective": "NamespaceMagics",
        "rm": "Other",
        "rmdir": "Other",
        "run": "ExecutionMagics",
        "save": "CodeMagics",
        "sc": "OSMagics",
        "set_env": "OSMagics",
        "store": "StoreMagics",
        "sx": "OSMagics",
        "system": "OSMagics",
        "tb": "ExecutionMagics",
        "time": "ExecutionMagics",
        "timeit": "ExecutionMagics",
        "unalias": "OSMagics",
        "unload_ext": "ExtensionMagics",
        "who": "NamespaceMagics",
        "who_ls": "NamespaceMagics",
        "whos": "NamespaceMagics",
        "xdel": "NamespaceMagics",
        "xmode": "BasicMagics"
       }
      },
      "text/plain": [
       "Available line magics:\n",
       "%alias  %alias_magic  %autoawait  %autocall  %automagic  %autosave  %bookmark  %cat  %cd  %clear  %colors  %conda  %config  %connect_info  %cp  %debug  %dhist  %dirs  %doctest_mode  %ed  %edit  %env  %gui  %hist  %history  %killbgscripts  %ldir  %less  %lf  %lk  %ll  %load  %load_ext  %loadpy  %logoff  %logon  %logstart  %logstate  %logstop  %ls  %lsmagic  %lx  %macro  %magic  %man  %matplotlib  %mkdir  %more  %mv  %notebook  %page  %pastebin  %pdb  %pdef  %pdoc  %pfile  %pinfo  %pinfo2  %pip  %popd  %pprint  %precision  %prun  %psearch  %psource  %pushd  %pwd  %pycat  %pylab  %qtconsole  %quickref  %recall  %rehashx  %reload_ext  %rep  %rerun  %reset  %reset_selective  %rm  %rmdir  %run  %save  %sc  %set_env  %store  %sx  %system  %tb  %time  %timeit  %unalias  %unload_ext  %who  %who_ls  %whos  %xdel  %xmode\n",
       "\n",
       "Available cell magics:\n",
       "%%!  %%HTML  %%SVG  %%bash  %%capture  %%debug  %%file  %%html  %%javascript  %%js  %%latex  %%markdown  %%perl  %%prun  %%pypy  %%python  %%python2  %%python3  %%ruby  %%script  %%sh  %%svg  %%sx  %%system  %%time  %%timeit  %%writefile\n",
       "\n",
       "Automagic is ON, % prefix IS NOT needed for line magics."
      ]
     },
     "execution_count": 69,
     "metadata": {},
     "output_type": "execute_result"
    }
   ],
   "source": [
    "%lsmagic"
   ]
  },
  {
   "cell_type": "code",
   "execution_count": 9,
   "metadata": {
    "scrolled": true
   },
   "outputs": [
    {
     "data": {
      "application/javascript": [
       "console.log(\"hello World\");\n"
      ],
      "text/plain": [
       "<IPython.core.display.Javascript object>"
      ]
     },
     "metadata": {},
     "output_type": "display_data"
    }
   ],
   "source": [
    "%%javascript\n",
    "console.log(\"hello World\");"
   ]
  },
  {
   "cell_type": "code",
   "execution_count": null,
   "metadata": {},
   "outputs": [],
   "source": []
  }
 ],
 "metadata": {
  "kernelspec": {
   "display_name": "Python 3",
   "language": "python",
   "name": "python3"
  },
  "language_info": {
   "codemirror_mode": {
    "name": "ipython",
    "version": 3
   },
   "file_extension": ".py",
   "mimetype": "text/x-python",
   "name": "python",
   "nbconvert_exporter": "python",
   "pygments_lexer": "ipython3",
   "version": "3.8.5"
  }
 },
 "nbformat": 4,
 "nbformat_minor": 4
}
